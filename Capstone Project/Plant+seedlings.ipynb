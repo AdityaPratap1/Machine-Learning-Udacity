{
 "cells": [
  {
   "cell_type": "code",
   "execution_count": 1,
   "metadata": {},
   "outputs": [
    {
     "name": "stderr",
     "output_type": "stream",
     "text": [
      "Using TensorFlow backend.\n"
     ]
    }
   ],
   "source": [
    "import numpy as np # for linear algebra\n",
    "import pandas as pd # for data visuals and analysis\n",
    "import keras # for nearual nets and training\n",
    "import tensorflow as tf # for neaural nets and training\n",
    "import matplotlib.pyplot as plt # for data visualization\n",
    "#import dicom # to read dicom files \n",
    "import zipfile as zf\n",
    "from sklearn.datasets import load_files    \n",
    "from keras.utils import np_utils\n",
    "import cv2 \n",
    "import os"
   ]
  },
  {
   "cell_type": "markdown",
   "metadata": {},
   "source": [
    "Load dataset from train directory"
   ]
  },
  {
   "cell_type": "code",
   "execution_count": 2,
   "metadata": {
    "collapsed": true
   },
   "outputs": [],
   "source": [
    "train_dir = \"/train/train\"\n",
    "\n",
    "def load_dataset(path):\n",
    "    data = load_files(path)\n",
    "    plant_files = np.array(data['filenames'])\n",
    "    plant_targets = np_utils.to_categorical(np.array(data['target']), 133)\n",
    "    return plant_files, plant_targets\n",
    "\n",
    "def load_dir(path):\n",
    "    data = load_files(path)\n",
    "    plant_files = np.array(data['filenames'])\n",
    "    return plant_files\n",
    "\n",
    "train_files, train_targets = load_dataset('/train/train')\n",
    "\n",
    "n_classes = train_targets\n",
    "\n",
    "dir_list = load_dir(train_dir)"
   ]
  },
  {
   "cell_type": "markdown",
   "metadata": {},
   "source": [
    "Organize images and get all their diemnsions"
   ]
  },
  {
   "cell_type": "code",
   "execution_count": null,
   "metadata": {
    "collapsed": true
   },
   "outputs": [],
   "source": [
    "from PIL import Image\n",
    "\n",
    "train_images = []\n",
    "img_class = []\n",
    "img_height = []\n",
    "img_width = []\n",
    "dir_list = load_dir(train_dir)\n",
    "\n",
    "for c, files in zip(n_classes, dir_list):    \n",
    "        img = Image.open(files)\n",
    "        train_images.append(img)        \n",
    "        img_class.append(files)\n",
    "        img_height.append(img.height)\n",
    "        img_width.append(img.width)\n",
    "df_all = pd.DataFrame({\"class\": img_class, \"height\": img_height, \"width\": img_width}, index = train_images)\n",
    "\n",
    "df_all.head()"
   ]
  },
  {
   "cell_type": "markdown",
   "metadata": {},
   "source": [
    "## Pre Process Image"
   ]
  },
  {
   "cell_type": "code",
   "execution_count": 3,
   "metadata": {
    "collapsed": true
   },
   "outputs": [],
   "source": [
    "#IMAGE MASKING\n",
    "def plant_mask(image):\n",
    "    image_hsv = cv2.cvtColor(image, cv2.COLOR_BGR2HSV)\n",
    "    sensitivity = 35\n",
    "    lower_hsv = np.array([60 - sensitivity, 100, 50])\n",
    "    upper_hsv = np.array([60 + sensitivity, 255, 255])\n",
    "    \n",
    "    mask = cv2.inRange(image_hsv, lower_hsv, upper_hsv)\n",
    "    kernel = cv2.getStructuringElement(cv2.MORPH_ELLIPSE, (11,11))\n",
    "    mask = cv2.morphologyEx(mask, cv2.MORPH_CLOSE, kernel)\n",
    "    \n",
    "    return mask\n",
    "\n",
    "#IMAGE SEGMENTING\n",
    "def seg_plant(image):\n",
    "    mask = plant_mask(image)\n",
    "    output = cv2.bitwise_and(image, image, mask = mask)\n",
    "    return output\n",
    "\n",
    "#SHARPENING THE SEGMENTED IMAGE\n",
    "def sharpen_image(image):\n",
    "    image_blurred = cv2.GaussianBlur(image, (0, 0), 3)\n",
    "    image_sharp = cv2.addWeighted(image, 1.5, image_blurred, -0.5, 0)\n",
    "    return image_sharp"
   ]
  },
  {
   "cell_type": "code",
   "execution_count": 4,
   "metadata": {
    "collapsed": true
   },
   "outputs": [],
   "source": [
    "import matplotlib.pyplot as plt\n",
    "import matplotlib.image as mpimg\n",
    "\n",
    "mask_images = [] #Store all masked images\n",
    "sharpened_images = [] #Store all sharpened images\n",
    "segmented_images = [] #Store all segmented images\n",
    "original_images = [] # Store all original resized images\n",
    "labels = [] # Store all labels\n",
    "\n",
    "img_size = 75\n",
    "\n",
    "\n",
    "for i in dir_list: #For i in number of images\n",
    "    \n",
    "    image = cv2.imread(i) #Read every image using cv2.imread()\n",
    "    \n",
    "    head, tail = os.path.split(os.path.split(i)[0])#Take the path of the image, split it and the name of the class is tail\n",
    "    \n",
    "    labels.append(tail) #append the name of the class to labels\n",
    "    \n",
    "    resized = cv2.resize(image, (img_size, img_size)) #Resize every image to 50 by 50\n",
    "    \n",
    "    image_mask = plant_mask(resized)  # mask the resized image\n",
    "    image_segmented = seg_plant(resized) # segment the resized image\n",
    "    image_sharpen = sharpen_image(image_segmented) # sharpen the segmented image\n",
    "    mask_images.append(image_mask)\n",
    "    sharpened_images.append(image_sharpen)\n",
    "    segmented_images.append(image_segmented)\n",
    "    original_images.append(resized)\n",
    "    "
   ]
  },
  {
   "cell_type": "code",
   "execution_count": 5,
   "metadata": {},
   "outputs": [
    {
     "data": {
      "image/png": "[encoded data removed]",
      "text/plain": [
       "<matplotlib.figure.Figure at 0x7f782db64278>"
      ]
     },
     "metadata": {},
     "output_type": "display_data"
    },
    {
     "name": "stdout",
     "output_type": "stream",
     "text": [
      "Maize\n"
     ]
    }
   ],
   "source": [
    "fig, axs = plt.subplots(1, 3, figsize=(20, 20))\n",
    "axs[0].imshow(sharpened_images[3])\n",
    "axs[1].imshow(mask_images[3])\n",
    "axs[2].imshow(original_images[3])\n",
    "plt.show()\n",
    "print(labels[5])"
   ]
  },
  {
   "cell_type": "markdown",
   "metadata": {
    "collapsed": true
   },
   "source": [
    "## Organize"
   ]
  },
  {
   "cell_type": "markdown",
   "metadata": {},
   "source": [
    "Save images to local folder to avoid re-pre-processing which consumes a lot of time."
   ]
  },
  {
   "cell_type": "code",
   "execution_count": null,
   "metadata": {
    "collapsed": true
   },
   "outputs": [],
   "source": [
    "path_sharpened = 'C:\\\\Users\\\\Aditya Pratap\\\\Desktop\\\\Machine Learning\\\\Pre-processed Images\\\\sharpened images'\n",
    "\n",
    "a = -1\n",
    "for x in (sharpened_images):\n",
    "    cv2.imwrite(os.path.join(path_sharpened, 'image' + str(a+1) + '.png'), x)\n",
    "    a = a+1\n"
   ]
  },
  {
   "cell_type": "code",
   "execution_count": null,
   "metadata": {
    "collapsed": true
   },
   "outputs": [],
   "source": [
    "#Bring the saved images in folder and save the images in train_segmented_images array to use in model\n",
    "image_dir = 'C:\\\\Users\\\\Aditya Pratap\\\\Desktop\\\\Machine Learning\\\\Pre-processed Images\\\\sharpened images'\n",
    "\n",
    "file_dir = load_dir(image_dir)\n",
    "\n",
    "train_segmented_images = [] #save the sharpened, segmented images to this array\n",
    "for x in file_dir:\n",
    "        im = cv2.imread(x)\n",
    "        train_segmented_images.append(im)\n",
    "\n",
    "print(len(train_segmented_images))"
   ]
  },
  {
   "cell_type": "markdown",
   "metadata": {},
   "source": [
    "##### Binarize Lables so model does not take words but binarized numbers"
   ]
  },
  {
   "cell_type": "code",
   "execution_count": 6,
   "metadata": {},
   "outputs": [
    {
     "name": "stdout",
     "output_type": "stream",
     "text": [
      "[[0 0 0 ..., 1 0 0]\n",
      " [0 0 0 ..., 0 0 0]\n",
      " [0 0 0 ..., 0 0 0]\n",
      " ..., \n",
      " [0 0 0 ..., 0 0 0]\n",
      " [0 0 0 ..., 0 0 0]\n",
      " [0 0 0 ..., 0 0 0]]\n"
     ]
    }
   ],
   "source": [
    "from sklearn.preprocessing import LabelBinarizer\n",
    "lb = LabelBinarizer().fit(labels)\n",
    "label = lb.transform(labels)\n",
    "print(label)"
   ]
  },
  {
   "cell_type": "code",
   "execution_count": 7,
   "metadata": {},
   "outputs": [
    {
     "name": "stderr",
     "output_type": "stream",
     "text": [
      "/usr/local/lib/python3.5/site-packages/sklearn/cross_validation.py:44: DeprecationWarning: This module was deprecated in version 0.18 in favor of the model_selection module into which all the refactored classes and functions are moved. Also note that the interface of the new CV iterators are different from that of this module. This module will be removed in 0.20.\n",
      "  \"This module will be removed in 0.20.\", DeprecationWarning)\n"
     ]
    }
   ],
   "source": [
    "from sklearn.cross_validation import train_test_split\n",
    "\n",
    "#Training and validation split ---> using np_sharpened_images for training images\n",
    "x_train, x_valid, y_train, y_valid = train_test_split(sharpened_images, label, test_size = 0.15, random_state = 42)\n"
   ]
  },
  {
   "cell_type": "code",
   "execution_count": 8,
   "metadata": {},
   "outputs": [
    {
     "name": "stdout",
     "output_type": "stream",
     "text": [
      "4037\n"
     ]
    }
   ],
   "source": [
    "print(len(x_train))\n"
   ]
  },
  {
   "cell_type": "markdown",
   "metadata": {},
   "source": [
    "## Model Definition, Training and Testing"
   ]
  },
  {
   "cell_type": "code",
   "execution_count": 9,
   "metadata": {
    "collapsed": true
   },
   "outputs": [],
   "source": [
    "#will NOT be using Image augmentation because training takes extremely long and i dont have a lot of GPU Hours left \n",
    "#on my GPU subscription (FloydHub). However, I do understand that Image augmentation will help INCREASE my acuracy.\n",
    "\n",
    "from keras.preprocessing.image import ImageDataGenerator\n",
    "datagen = ImageDataGenerator(\n",
    "        rotation_range=180,  # randomly rotate images in the range\n",
    "        zoom_range = 0.1, # Randomly zoom image \n",
    "        width_shift_range=0.1,  # randomly shift images horizontally\n",
    "        height_shift_range=0.1,  # randomly shift images vertically \n",
    "        horizontal_flip=True,  # randomly flip images horizontally\n",
    "        vertical_flip=True  # randomly flip images vertically\n",
    "    )  \n",
    "datagen.fit(x_train)"
   ]
  },
  {
   "cell_type": "code",
   "execution_count": 10,
   "metadata": {},
   "outputs": [
    {
     "name": "stdout",
     "output_type": "stream",
     "text": [
      "_________________________________________________________________\n",
      "Layer (type)                 Output Shape              Param #   \n",
      "=================================================================\n",
      "conv2d_1 (Conv2D)            (None, 73, 73, 32)        896       \n",
      "_________________________________________________________________\n",
      "batch_normalization_1 (Batch (None, 73, 73, 32)        128       \n",
      "_________________________________________________________________\n",
      "conv2d_2 (Conv2D)            (None, 71, 71, 32)        9248      \n",
      "_________________________________________________________________\n",
      "max_pooling2d_1 (MaxPooling2 (None, 35, 35, 32)        0         \n",
      "_________________________________________________________________\n",
      "batch_normalization_2 (Batch (None, 35, 35, 32)        128       \n",
      "_________________________________________________________________\n",
      "dropout_1 (Dropout)          (None, 35, 35, 32)        0         \n",
      "_________________________________________________________________\n",
      "conv2d_3 (Conv2D)            (None, 33, 33, 64)        18496     \n",
      "_________________________________________________________________\n",
      "batch_normalization_3 (Batch (None, 33, 33, 64)        256       \n",
      "_________________________________________________________________\n",
      "conv2d_4 (Conv2D)            (None, 31, 31, 64)        36928     \n",
      "_________________________________________________________________\n",
      "max_pooling2d_2 (MaxPooling2 (None, 15, 15, 64)        0         \n",
      "_________________________________________________________________\n",
      "batch_normalization_4 (Batch (None, 15, 15, 64)        256       \n",
      "_________________________________________________________________\n",
      "dropout_2 (Dropout)          (None, 15, 15, 64)        0         \n",
      "_________________________________________________________________\n",
      "conv2d_5 (Conv2D)            (None, 13, 13, 128)       73856     \n",
      "_________________________________________________________________\n",
      "batch_normalization_5 (Batch (None, 13, 13, 128)       512       \n",
      "_________________________________________________________________\n",
      "conv2d_6 (Conv2D)            (None, 11, 11, 128)       147584    \n",
      "_________________________________________________________________\n",
      "max_pooling2d_3 (MaxPooling2 (None, 5, 5, 128)         0         \n",
      "_________________________________________________________________\n",
      "batch_normalization_6 (Batch (None, 5, 5, 128)         512       \n",
      "_________________________________________________________________\n",
      "dropout_3 (Dropout)          (None, 5, 5, 128)         0         \n",
      "_________________________________________________________________\n",
      "flatten_1 (Flatten)          (None, 3200)              0         \n",
      "_________________________________________________________________\n",
      "dense_1 (Dense)              (None, 128)               409728    \n",
      "_________________________________________________________________\n",
      "batch_normalization_7 (Batch (None, 128)               512       \n",
      "_________________________________________________________________\n",
      "dropout_4 (Dropout)          (None, 128)               0         \n",
      "_________________________________________________________________\n",
      "dense_2 (Dense)              (None, 128)               16512     \n",
      "_________________________________________________________________\n",
      "batch_normalization_8 (Batch (None, 128)               512       \n",
      "_________________________________________________________________\n",
      "dropout_5 (Dropout)          (None, 128)               0         \n",
      "_________________________________________________________________\n",
      "dense_3 (Dense)              (None, 12)                1548      \n",
      "=================================================================\n",
      "Total params: 717,612\n",
      "Trainable params: 716,204\n",
      "Non-trainable params: 1,408\n",
      "_________________________________________________________________\n"
     ]
    }
   ],
   "source": [
    "import numpy\n",
    "import time\n",
    "from keras.models import Sequential\n",
    "from keras.layers import Dense\n",
    "from keras.layers import Dropout\n",
    "from keras.layers import Flatten\n",
    "from keras.layers.convolutional import Conv2D\n",
    "from keras.layers.convolutional import MaxPooling2D\n",
    "from keras.layers import BatchNormalization\n",
    "\n",
    "seed = 7\n",
    "\n",
    "numpy.random.seed(seed)\n",
    "\n",
    "model = Sequential()\n",
    "\n",
    "model.add(Conv2D(filters=32, kernel_size=(3, 3), input_shape=(img_size, img_size, 3), activation='relu'))\n",
    "model.add(BatchNormalization(axis=3))\n",
    "model.add(Conv2D(filters=32, kernel_size=(3, 3), activation='relu'))\n",
    "model.add(MaxPooling2D((2, 2)))\n",
    "model.add(BatchNormalization(axis=3))\n",
    "model.add(Dropout(0.1))\n",
    "\n",
    "model.add(Conv2D(filters=64, kernel_size=(3, 3), activation='relu'))\n",
    "model.add(BatchNormalization(axis=3))\n",
    "model.add(Conv2D(filters=64, kernel_size=(3, 3), activation='relu'))\n",
    "model.add(MaxPooling2D((2, 2)))\n",
    "model.add(BatchNormalization(axis=3))\n",
    "model.add(Dropout(0.1))\n",
    "\n",
    "model.add(Conv2D(filters=128, kernel_size=(3, 3), activation='relu'))\n",
    "model.add(BatchNormalization(axis=3))\n",
    "model.add(Conv2D(filters=128, kernel_size=(3, 3), activation='relu'))\n",
    "model.add(MaxPooling2D((2, 2)))\n",
    "model.add(BatchNormalization(axis=3))\n",
    "model.add(Dropout(0.1))\n",
    "\n",
    "model.add(Flatten())\n",
    "\n",
    "model.add(Dense(128, activation='relu'))\n",
    "model.add(BatchNormalization())\n",
    "model.add(Dropout(0.5))\n",
    "\n",
    "model.add(Dense(128, activation='relu'))\n",
    "model.add(BatchNormalization())\n",
    "model.add(Dropout(0.5))\n",
    "\n",
    "model.add(Dense(12, activation='softmax'))\n",
    "\n",
    "model.summary()\n",
    "\n",
    "# compile model\n",
    "model.compile(loss='categorical_crossentropy', optimizer='adam', metrics=['accuracy'])\n",
    "\n"
   ]
  },
  {
   "cell_type": "code",
   "execution_count": 23,
   "metadata": {},
   "outputs": [
    {
     "name": "stdout",
     "output_type": "stream",
     "text": [
      "Epoch 1/7\n",
      "4037/4037 [==============================] - 552s - loss: 0.0100 - acc: 0.9967 - val_loss: 0.2266 - val_acc: 0.9593\n",
      "Epoch 2/7\n",
      "4037/4037 [==============================] - 552s - loss: 0.0099 - acc: 0.9967 - val_loss: 0.2283 - val_acc: 0.9593\n",
      "Epoch 3/7\n",
      "4037/4037 [==============================] - 552s - loss: 0.0096 - acc: 0.9967 - val_loss: 0.2319 - val_acc: 0.9607\n",
      "Epoch 4/7\n",
      "4037/4037 [==============================] - 552s - loss: 0.0094 - acc: 0.9968 - val_loss: 0.2329 - val_acc: 0.9579\n",
      "Epoch 5/7\n",
      "4037/4037 [==============================] - 552s - loss: 0.0100 - acc: 0.9967 - val_loss: 0.2365 - val_acc: 0.9593\n",
      "Epoch 6/7\n",
      "4037/4037 [==============================] - 551s - loss: 0.0096 - acc: 0.9967 - val_loss: 0.2330 - val_acc: 0.9579\n",
      "Epoch 7/7\n",
      "4036/4037 [============================>.] - ETA: 0s - loss: 0.0096 - acc: 0.9968\n",
      "Epoch 00006: reducing learning rate to 1e-05.\n",
      "4037/4037 [==============================] - 552s - loss: 0.0096 - acc: 0.9968 - val_loss: 0.2358 - val_acc: 0.9579\n",
      "3865.6481437683105\n"
     ]
    }
   ],
   "source": [
    "t0 = time.time()\n",
    "\n",
    "from keras.callbacks import ModelCheckpoint, ReduceLROnPlateau, CSVLogger, EarlyStopping\n",
    "\n",
    "# learning rate reduction\n",
    "learning_rate_reduction = ReduceLROnPlateau(monitor='val_acc', \n",
    "                                            patience=3, \n",
    "                                            verbose=1, \n",
    "                                            factor=0.4, \n",
    "                                            min_lr=0.00001)\n",
    "\n",
    "early_stopping = EarlyStopping(monitor='val_loss', patience=6, verbose=0, mode='auto')\n",
    "\n",
    "\n",
    "\n",
    "callbacks_list = [learning_rate_reduction]\n",
    "\n",
    "\n",
    "\n",
    "x_train = np.array(x_train)\n",
    "y_train = np.array(y_train)\n",
    "\n",
    "x_valid = np.array(x_valid)\n",
    "y_valid = np.array(y_valid)\n",
    "\n",
    "# fit model\n",
    "hist = model.fit_generator(datagen.flow(x_train, y_train, batch_size = 75),\n",
    "                           epochs=7, validation_data=(x_valid, y_valid),\n",
    "                           steps_per_epoch = x_train.shape[0], callbacks=callbacks_list)\n",
    "\n",
    "t1 = time.time()\n",
    "\n",
    "total = t1-t0\n",
    "\n",
    "print(total)"
   ]
  },
  {
   "cell_type": "code",
   "execution_count": 24,
   "metadata": {},
   "outputs": [
    {
     "name": "stdout",
     "output_type": "stream",
     "text": [
      "4037/4037 [==============================] - 2s     \n",
      "[0.00030534346124030297, 1.0]\n",
      "704/713 [============================>.] - ETA: 0s[0.235778945588623, 0.9579242645105841]\n"
     ]
    }
   ],
   "source": [
    "print(model.evaluate(x_train, y_train))  # Evaluate on train set\n",
    "print(model.evaluate(x_valid, y_valid))  # Evaluate on test set\\"
   ]
  },
  {
   "cell_type": "code",
   "execution_count": 25,
   "metadata": {
    "collapsed": true
   },
   "outputs": [],
   "source": [
    "import glob\n",
    "\n",
    "test_dir = \"/train/test\"\n",
    "\n",
    "#LOAD TEST SET FROM FOLDER\n",
    "\n",
    "sharpened_image_test = []\n",
    "test_labels = []\n",
    "for filename in glob.glob('/train/test/*.png'): \n",
    "    im = cv2.imread(filename)\n",
    "    resized_test = cv2.resize(im, (img_size, img_size))\n",
    "    image_segmented_test = seg_plant(resized_test) #Segment ans sharpen the test set aswell\n",
    "    image_sharpen_test = sharpen_image(image_segmented_test)\n",
    "    sharpened_image_test.append(image_sharpen_test)\n",
    "    head, tail = os.path.split(os.path.split(filename)[1]) #Split the id and \".png\" of image\n",
    "    test_labels.append(tail)\n",
    "    \n",
    "x_test = np.array(sharpened_image_test)\n",
    "yhat = model.predict(x_test)\n",
    "test_y = lb.inverse_transform(yhat) # SWitch labels from matrices to words\n",
    "\n"
   ]
  },
  {
   "cell_type": "code",
   "execution_count": 26,
   "metadata": {},
   "outputs": [
    {
     "name": "stdout",
     "output_type": "stream",
     "text": [
      "['Sugar beet' 'Loose Silky-bent' 'Scentless Mayweed' 'Loose Silky-bent'\n",
      " 'Scentless Mayweed' 'Sugar beet' 'Loose Silky-bent' 'Common Chickweed'\n",
      " 'Scentless Mayweed' 'Loose Silky-bent' 'Small-flowered Cranesbill'\n",
      " 'Charlock' 'Loose Silky-bent' 'Loose Silky-bent' 'Fat Hen'\n",
      " 'Loose Silky-bent' 'Fat Hen' 'Scentless Mayweed' 'Sugar beet' 'Sugar beet'\n",
      " 'Charlock' 'Sugar beet' 'Loose Silky-bent' 'Small-flowered Cranesbill'\n",
      " 'Common Chickweed' 'Common wheat' 'Sugar beet' 'Small-flowered Cranesbill'\n",
      " 'Charlock' 'Shepherds Purse' 'Loose Silky-bent' 'Fat Hen'\n",
      " 'Scentless Mayweed' 'Charlock' 'Loose Silky-bent' 'Common Chickweed'\n",
      " 'Common wheat' 'Scentless Mayweed' 'Cleavers' 'Shepherds Purse' 'Maize'\n",
      " 'Scentless Mayweed' 'Charlock' 'Common Chickweed' 'Loose Silky-bent'\n",
      " 'Charlock' 'Loose Silky-bent' 'Loose Silky-bent' 'Common Chickweed'\n",
      " 'Common Chickweed' 'Small-flowered Cranesbill' 'Shepherds Purse'\n",
      " 'Cleavers' 'Loose Silky-bent' 'Fat Hen' 'Loose Silky-bent'\n",
      " 'Shepherds Purse' 'Cleavers' 'Loose Silky-bent' 'Shepherds Purse'\n",
      " 'Small-flowered Cranesbill' 'Black-grass' 'Shepherds Purse' 'Black-grass'\n",
      " 'Small-flowered Cranesbill' 'Small-flowered Cranesbill' 'Cleavers'\n",
      " 'Shepherds Purse' 'Loose Silky-bent' 'Maize' 'Loose Silky-bent'\n",
      " 'Sugar beet' 'Scentless Mayweed' 'Loose Silky-bent' 'Shepherds Purse'\n",
      " 'Common Chickweed' 'Sugar beet' 'Common Chickweed' 'Loose Silky-bent'\n",
      " 'Loose Silky-bent' 'Loose Silky-bent' 'Common wheat' 'Scentless Mayweed'\n",
      " 'Scentless Mayweed' 'Black-grass' 'Charlock' 'Loose Silky-bent'\n",
      " 'Sugar beet' 'Loose Silky-bent' 'Scentless Mayweed' 'Fat Hen'\n",
      " 'Black-grass' 'Cleavers' 'Shepherds Purse' 'Loose Silky-bent' 'Charlock'\n",
      " 'Common Chickweed' 'Small-flowered Cranesbill' 'Shepherds Purse' 'Fat Hen'\n",
      " 'Sugar beet' 'Small-flowered Cranesbill' 'Black-grass' 'Charlock'\n",
      " 'Loose Silky-bent' 'Common Chickweed' 'Fat Hen' 'Fat Hen'\n",
      " 'Common Chickweed' 'Sugar beet' 'Small-flowered Cranesbill'\n",
      " 'Scentless Mayweed' 'Scentless Mayweed' 'Loose Silky-bent' 'Sugar beet'\n",
      " 'Common Chickweed' 'Scentless Mayweed' 'Cleavers' 'Cleavers' 'Charlock'\n",
      " 'Common Chickweed' 'Maize' 'Loose Silky-bent' 'Shepherds Purse' 'Maize'\n",
      " 'Loose Silky-bent' 'Charlock' 'Maize' 'Small-flowered Cranesbill'\n",
      " 'Loose Silky-bent' 'Fat Hen' 'Common Chickweed' 'Cleavers'\n",
      " 'Shepherds Purse' 'Cleavers' 'Small-flowered Cranesbill'\n",
      " 'Small-flowered Cranesbill' 'Cleavers' 'Cleavers' 'Sugar beet'\n",
      " 'Common Chickweed' 'Sugar beet' 'Sugar beet' 'Loose Silky-bent'\n",
      " 'Common Chickweed' 'Sugar beet' 'Loose Silky-bent' 'Scentless Mayweed'\n",
      " 'Shepherds Purse' 'Cleavers' 'Loose Silky-bent' 'Scentless Mayweed'\n",
      " 'Small-flowered Cranesbill' 'Scentless Mayweed' 'Sugar beet'\n",
      " 'Common wheat' 'Scentless Mayweed' 'Loose Silky-bent' 'Shepherds Purse'\n",
      " 'Black-grass' 'Common wheat' 'Loose Silky-bent' 'Fat Hen'\n",
      " 'Loose Silky-bent' 'Scentless Mayweed' 'Sugar beet' 'Sugar beet'\n",
      " 'Common wheat' 'Scentless Mayweed' 'Loose Silky-bent'\n",
      " 'Small-flowered Cranesbill' 'Sugar beet' 'Loose Silky-bent' 'Charlock'\n",
      " 'Scentless Mayweed' 'Cleavers' 'Fat Hen' 'Cleavers' 'Common wheat'\n",
      " 'Loose Silky-bent' 'Small-flowered Cranesbill' 'Fat Hen'\n",
      " 'Small-flowered Cranesbill' 'Sugar beet' 'Loose Silky-bent' 'Cleavers'\n",
      " 'Black-grass' 'Sugar beet' 'Fat Hen' 'Shepherds Purse' 'Maize'\n",
      " 'Small-flowered Cranesbill' 'Common Chickweed' 'Small-flowered Cranesbill'\n",
      " 'Sugar beet' 'Cleavers' 'Cleavers' 'Cleavers' 'Black-grass'\n",
      " 'Common Chickweed' 'Small-flowered Cranesbill' 'Small-flowered Cranesbill'\n",
      " 'Scentless Mayweed' 'Loose Silky-bent' 'Maize' 'Shepherds Purse'\n",
      " 'Scentless Mayweed' 'Common Chickweed' 'Maize' 'Loose Silky-bent'\n",
      " 'Scentless Mayweed' 'Scentless Mayweed' 'Black-grass' 'Sugar beet'\n",
      " 'Charlock' 'Maize' 'Common Chickweed' 'Common Chickweed' 'Common wheat'\n",
      " 'Scentless Mayweed' 'Charlock' 'Black-grass' 'Common Chickweed' 'Charlock'\n",
      " 'Common Chickweed' 'Charlock' 'Common Chickweed' 'Loose Silky-bent'\n",
      " 'Cleavers' 'Common Chickweed' 'Sugar beet' 'Common Chickweed' 'Charlock'\n",
      " 'Fat Hen' 'Loose Silky-bent' 'Common Chickweed' 'Common Chickweed'\n",
      " 'Fat Hen' 'Sugar beet' 'Scentless Mayweed' 'Small-flowered Cranesbill'\n",
      " 'Shepherds Purse' 'Scentless Mayweed' 'Common wheat' 'Sugar beet'\n",
      " 'Small-flowered Cranesbill' 'Loose Silky-bent' 'Small-flowered Cranesbill'\n",
      " 'Fat Hen' 'Loose Silky-bent' 'Cleavers' 'Fat Hen' 'Loose Silky-bent'\n",
      " 'Common wheat' 'Common Chickweed' 'Loose Silky-bent' 'Scentless Mayweed'\n",
      " 'Fat Hen' 'Small-flowered Cranesbill' 'Small-flowered Cranesbill'\n",
      " 'Common Chickweed' 'Scentless Mayweed' 'Sugar beet' 'Cleavers' 'Charlock'\n",
      " 'Scentless Mayweed' 'Charlock' 'Fat Hen' 'Loose Silky-bent'\n",
      " 'Loose Silky-bent' 'Loose Silky-bent' 'Charlock' 'Loose Silky-bent'\n",
      " 'Common Chickweed' 'Cleavers' 'Loose Silky-bent'\n",
      " 'Small-flowered Cranesbill' 'Maize' 'Common wheat' 'Loose Silky-bent'\n",
      " 'Cleavers' 'Small-flowered Cranesbill' 'Common Chickweed' 'Fat Hen'\n",
      " 'Common wheat' 'Cleavers' 'Loose Silky-bent' 'Sugar beet' 'Charlock'\n",
      " 'Common Chickweed' 'Scentless Mayweed' 'Small-flowered Cranesbill'\n",
      " 'Common Chickweed' 'Common Chickweed' 'Charlock' 'Charlock'\n",
      " 'Common Chickweed' 'Maize' 'Fat Hen' 'Maize' 'Cleavers' 'Sugar beet'\n",
      " 'Fat Hen' 'Fat Hen' 'Small-flowered Cranesbill' 'Charlock'\n",
      " 'Scentless Mayweed' 'Loose Silky-bent' 'Small-flowered Cranesbill'\n",
      " 'Shepherds Purse' 'Fat Hen' 'Sugar beet' 'Fat Hen' 'Shepherds Purse'\n",
      " 'Small-flowered Cranesbill' 'Sugar beet' 'Common Chickweed'\n",
      " 'Loose Silky-bent' 'Sugar beet' 'Common Chickweed'\n",
      " 'Small-flowered Cranesbill' 'Small-flowered Cranesbill' 'Charlock'\n",
      " 'Shepherds Purse' 'Sugar beet' 'Common Chickweed' 'Sugar beet'\n",
      " 'Scentless Mayweed' 'Charlock' 'Scentless Mayweed' 'Loose Silky-bent'\n",
      " 'Black-grass' 'Cleavers' 'Loose Silky-bent' 'Cleavers' 'Charlock' 'Maize'\n",
      " 'Loose Silky-bent' 'Loose Silky-bent' 'Cleavers' 'Scentless Mayweed'\n",
      " 'Common Chickweed' 'Common wheat' 'Sugar beet' 'Common Chickweed'\n",
      " 'Loose Silky-bent' 'Sugar beet' 'Small-flowered Cranesbill' 'Maize'\n",
      " 'Black-grass' 'Small-flowered Cranesbill' 'Fat Hen' 'Common wheat'\n",
      " 'Scentless Mayweed' 'Common Chickweed' 'Scentless Mayweed'\n",
      " 'Common Chickweed' 'Scentless Mayweed' 'Sugar beet' 'Common Chickweed'\n",
      " 'Common Chickweed' 'Loose Silky-bent' 'Black-grass' 'Shepherds Purse'\n",
      " 'Common wheat' 'Loose Silky-bent' 'Common Chickweed' 'Loose Silky-bent'\n",
      " 'Loose Silky-bent' 'Common Chickweed' 'Small-flowered Cranesbill'\n",
      " 'Shepherds Purse' 'Fat Hen' 'Common wheat' 'Scentless Mayweed' 'Fat Hen'\n",
      " 'Scentless Mayweed' 'Fat Hen' 'Small-flowered Cranesbill' 'Fat Hen'\n",
      " 'Scentless Mayweed' 'Common Chickweed' 'Scentless Mayweed'\n",
      " 'Small-flowered Cranesbill' 'Scentless Mayweed' 'Scentless Mayweed'\n",
      " 'Common wheat' 'Cleavers' 'Common Chickweed' 'Small-flowered Cranesbill'\n",
      " 'Cleavers' 'Loose Silky-bent' 'Fat Hen' 'Charlock' 'Maize'\n",
      " 'Common Chickweed' 'Scentless Mayweed' 'Small-flowered Cranesbill' 'Maize'\n",
      " 'Black-grass' 'Loose Silky-bent' 'Loose Silky-bent' 'Scentless Mayweed'\n",
      " 'Small-flowered Cranesbill' 'Cleavers' 'Common Chickweed' 'Black-grass'\n",
      " 'Maize' 'Loose Silky-bent' 'Scentless Mayweed' 'Scentless Mayweed'\n",
      " 'Small-flowered Cranesbill' 'Black-grass' 'Scentless Mayweed'\n",
      " 'Common Chickweed' 'Cleavers' 'Small-flowered Cranesbill'\n",
      " 'Scentless Mayweed' 'Charlock' 'Maize' 'Black-grass' 'Black-grass'\n",
      " 'Small-flowered Cranesbill' 'Fat Hen' 'Loose Silky-bent'\n",
      " 'Scentless Mayweed' 'Cleavers' 'Common Chickweed' 'Common Chickweed'\n",
      " 'Fat Hen' 'Fat Hen' 'Common wheat' 'Charlock' 'Sugar beet'\n",
      " 'Scentless Mayweed' 'Small-flowered Cranesbill' 'Sugar beet'\n",
      " 'Loose Silky-bent' 'Charlock' 'Charlock' 'Common Chickweed'\n",
      " 'Shepherds Purse' 'Scentless Mayweed' 'Scentless Mayweed'\n",
      " 'Shepherds Purse' 'Common Chickweed' 'Sugar beet' 'Maize'\n",
      " 'Common Chickweed' 'Charlock' 'Sugar beet' 'Common wheat'\n",
      " 'Common Chickweed' 'Shepherds Purse' 'Common Chickweed' 'Loose Silky-bent'\n",
      " 'Black-grass' 'Fat Hen' 'Sugar beet' 'Scentless Mayweed' 'Cleavers'\n",
      " 'Common Chickweed' 'Loose Silky-bent' 'Small-flowered Cranesbill'\n",
      " 'Scentless Mayweed' 'Maize' 'Charlock' 'Scentless Mayweed'\n",
      " 'Scentless Mayweed' 'Shepherds Purse' 'Scentless Mayweed' 'Black-grass'\n",
      " 'Sugar beet' 'Scentless Mayweed' 'Fat Hen' 'Sugar beet' 'Cleavers'\n",
      " 'Charlock' 'Fat Hen' 'Charlock' 'Scentless Mayweed'\n",
      " 'Small-flowered Cranesbill' 'Maize' 'Common wheat' 'Loose Silky-bent'\n",
      " 'Scentless Mayweed' 'Scentless Mayweed' 'Sugar beet' 'Maize' 'Sugar beet'\n",
      " 'Shepherds Purse' 'Common wheat' 'Sugar beet' 'Small-flowered Cranesbill'\n",
      " 'Sugar beet' 'Loose Silky-bent' 'Common Chickweed' 'Loose Silky-bent'\n",
      " 'Sugar beet' 'Loose Silky-bent' 'Common wheat' 'Scentless Mayweed'\n",
      " 'Fat Hen' 'Cleavers' 'Loose Silky-bent' 'Maize' 'Common Chickweed'\n",
      " 'Loose Silky-bent' 'Common Chickweed' 'Common Chickweed' 'Cleavers'\n",
      " 'Black-grass' 'Common Chickweed' 'Scentless Mayweed' 'Sugar beet'\n",
      " 'Small-flowered Cranesbill' 'Sugar beet' 'Charlock' 'Charlock'\n",
      " 'Small-flowered Cranesbill' 'Common Chickweed' 'Common Chickweed' 'Maize'\n",
      " 'Sugar beet' 'Common Chickweed' 'Fat Hen' 'Loose Silky-bent' 'Fat Hen'\n",
      " 'Loose Silky-bent' 'Small-flowered Cranesbill' 'Fat Hen' 'Sugar beet'\n",
      " 'Common Chickweed' 'Small-flowered Cranesbill' 'Fat Hen' 'Cleavers'\n",
      " 'Loose Silky-bent' 'Common wheat' 'Fat Hen' 'Loose Silky-bent'\n",
      " 'Common Chickweed' 'Charlock' 'Fat Hen' 'Sugar beet' 'Charlock' 'Fat Hen'\n",
      " 'Cleavers' 'Black-grass' 'Charlock' 'Maize' 'Sugar beet' 'Common wheat'\n",
      " 'Black-grass' 'Common wheat' 'Loose Silky-bent' 'Maize' 'Fat Hen'\n",
      " 'Charlock' 'Charlock' 'Common Chickweed' 'Loose Silky-bent' 'Charlock'\n",
      " 'Fat Hen' 'Maize' 'Loose Silky-bent' 'Loose Silky-bent' 'Common wheat'\n",
      " 'Scentless Mayweed' 'Loose Silky-bent' 'Cleavers' 'Shepherds Purse'\n",
      " 'Charlock' 'Black-grass' 'Small-flowered Cranesbill' 'Scentless Mayweed'\n",
      " 'Fat Hen' 'Charlock' 'Small-flowered Cranesbill' 'Common Chickweed'\n",
      " 'Fat Hen' 'Cleavers' 'Sugar beet' 'Shepherds Purse' 'Common Chickweed'\n",
      " 'Common wheat' 'Black-grass' 'Loose Silky-bent'\n",
      " 'Small-flowered Cranesbill' 'Black-grass' 'Sugar beet'\n",
      " 'Small-flowered Cranesbill' 'Scentless Mayweed' 'Scentless Mayweed'\n",
      " 'Loose Silky-bent' 'Loose Silky-bent' 'Scentless Mayweed'\n",
      " 'Loose Silky-bent' 'Charlock' 'Loose Silky-bent' 'Sugar beet'\n",
      " 'Loose Silky-bent' 'Scentless Mayweed' 'Common Chickweed' 'Black-grass'\n",
      " 'Scentless Mayweed' 'Black-grass' 'Cleavers' 'Loose Silky-bent'\n",
      " 'Scentless Mayweed' 'Shepherds Purse' 'Maize' 'Cleavers' 'Charlock'\n",
      " 'Maize' 'Shepherds Purse' 'Charlock' 'Sugar beet' 'Common Chickweed'\n",
      " 'Loose Silky-bent' 'Loose Silky-bent' 'Small-flowered Cranesbill'\n",
      " 'Shepherds Purse' 'Common Chickweed' 'Black-grass' 'Fat Hen' 'Black-grass'\n",
      " 'Small-flowered Cranesbill' 'Common Chickweed' 'Common wheat'\n",
      " 'Shepherds Purse' 'Common Chickweed' 'Scentless Mayweed' 'Cleavers'\n",
      " 'Loose Silky-bent' 'Common wheat' 'Small-flowered Cranesbill'\n",
      " 'Loose Silky-bent' 'Charlock' 'Common Chickweed'\n",
      " 'Small-flowered Cranesbill' 'Cleavers' 'Cleavers' 'Sugar beet'\n",
      " 'Loose Silky-bent' 'Common Chickweed' 'Fat Hen' 'Scentless Mayweed'\n",
      " 'Fat Hen' 'Sugar beet' 'Scentless Mayweed' 'Loose Silky-bent'\n",
      " 'Shepherds Purse' 'Common Chickweed' 'Sugar beet' 'Common wheat'\n",
      " 'Common Chickweed' 'Loose Silky-bent' 'Loose Silky-bent'\n",
      " 'Common Chickweed' 'Black-grass' 'Fat Hen' 'Charlock' 'Charlock'\n",
      " 'Scentless Mayweed' 'Common Chickweed' 'Common Chickweed'\n",
      " 'Scentless Mayweed' 'Sugar beet' 'Small-flowered Cranesbill' 'Cleavers'\n",
      " 'Loose Silky-bent' 'Common Chickweed' 'Loose Silky-bent'\n",
      " 'Small-flowered Cranesbill' 'Common wheat' 'Fat Hen' 'Sugar beet'\n",
      " 'Scentless Mayweed' 'Charlock' 'Loose Silky-bent' 'Fat Hen'\n",
      " 'Small-flowered Cranesbill' 'Sugar beet' 'Common Chickweed'\n",
      " 'Common Chickweed' 'Sugar beet' 'Common Chickweed' 'Shepherds Purse'\n",
      " 'Small-flowered Cranesbill' 'Shepherds Purse' 'Common Chickweed'\n",
      " 'Common Chickweed' 'Loose Silky-bent' 'Loose Silky-bent'\n",
      " 'Small-flowered Cranesbill' 'Sugar beet' 'Loose Silky-bent' 'Fat Hen'\n",
      " 'Sugar beet' 'Loose Silky-bent' 'Sugar beet' 'Small-flowered Cranesbill'\n",
      " 'Loose Silky-bent' 'Common Chickweed' 'Small-flowered Cranesbill'\n",
      " 'Small-flowered Cranesbill' 'Common wheat' 'Common Chickweed'\n",
      " 'Common Chickweed' 'Common Chickweed' 'Loose Silky-bent'\n",
      " 'Scentless Mayweed' 'Scentless Mayweed' 'Shepherds Purse' 'Black-grass'\n",
      " 'Fat Hen' 'Charlock' 'Scentless Mayweed' 'Fat Hen' 'Charlock' 'Maize'\n",
      " 'Loose Silky-bent' 'Common wheat' 'Charlock' 'Maize' 'Black-grass'\n",
      " 'Cleavers' 'Small-flowered Cranesbill' 'Small-flowered Cranesbill'\n",
      " 'Sugar beet' 'Common Chickweed' 'Scentless Mayweed' 'Common Chickweed'\n",
      " 'Charlock' 'Scentless Mayweed' 'Fat Hen' 'Loose Silky-bent' 'Fat Hen'\n",
      " 'Black-grass' 'Loose Silky-bent' 'Common wheat' 'Fat Hen'\n",
      " 'Small-flowered Cranesbill' 'Small-flowered Cranesbill' 'Charlock'\n",
      " 'Loose Silky-bent' 'Black-grass' 'Small-flowered Cranesbill' 'Sugar beet'\n",
      " 'Black-grass' 'Charlock' 'Common wheat' 'Shepherds Purse' 'Charlock'\n",
      " 'Sugar beet' 'Fat Hen' 'Small-flowered Cranesbill' 'Maize'\n",
      " 'Shepherds Purse' 'Common Chickweed' 'Maize' 'Shepherds Purse'\n",
      " 'Scentless Mayweed' 'Loose Silky-bent' 'Common Chickweed'\n",
      " 'Scentless Mayweed' 'Common Chickweed' 'Common Chickweed'\n",
      " 'Shepherds Purse' 'Sugar beet' 'Small-flowered Cranesbill'\n",
      " 'Shepherds Purse' 'Charlock' 'Scentless Mayweed' 'Charlock'\n",
      " 'Scentless Mayweed' 'Maize' 'Small-flowered Cranesbill' 'Sugar beet'\n",
      " 'Small-flowered Cranesbill' 'Sugar beet' 'Loose Silky-bent' 'Sugar beet'\n",
      " 'Common Chickweed' 'Fat Hen' 'Small-flowered Cranesbill' 'Maize'\n",
      " 'Loose Silky-bent' 'Sugar beet' 'Small-flowered Cranesbill'\n",
      " 'Loose Silky-bent' 'Scentless Mayweed' 'Sugar beet' 'Shepherds Purse']\n"
     ]
    }
   ],
   "source": [
    " print(test_y)"
   ]
  },
  {
   "cell_type": "code",
   "execution_count": 27,
   "metadata": {},
   "outputs": [
    {
     "name": "stdout",
     "output_type": "stream",
     "text": [
      "The prediction for the first image below is Small-flowered Cranesbill\n"
     ]
    },
    {
     "data": {
      "image/png": "[encoded data removed]",
      "text/plain": [
       "<matplotlib.figure.Figure at 0x7f780964eb38>"
      ]
     },
     "metadata": {},
     "output_type": "display_data"
    }
   ],
   "source": [
    "#FOR TESTING, I AM GOING TO USE SMALL-FLOWERED CRANESBILL AS A COMPARISION\n",
    "\n",
    "print(\"The prediction for the first image below is\", test_y[10]) #Prediction for test set image number 1\n",
    "\n",
    "fig, axs = plt.subplots(1, 3, figsize=(20, 20))\n",
    "\n",
    "axs[0].imshow(x_test[10]) #Test image number 1\n",
    "\n",
    "axs[1].imshow(sharpened_images[3]) #Segmented Image from train set that is labelled Small-flowered Cranesbill\n",
    "\n",
    "axs[2].imshow(original_images[3]) #original, non-preprocessed Small-flowered Cranesbill from train set itself to show \n",
    "                                  #what Small-flowered Cranesbill looks like\n",
    "\n",
    "plt.show() #IF ALL THE IMAGES BELOW LOOK SIMILAR AND ARE LABELLED SMALL-FLOWER CRANESBILL, \n",
    "          #THEN THE MODEL HAS PREDICTED CORRECTLY!\n",
    "    "
   ]
  },
  {
   "cell_type": "code",
   "execution_count": 28,
   "metadata": {
    "collapsed": true
   },
   "outputs": [],
   "source": [
    "import pandas as pd"
   ]
  },
  {
   "cell_type": "code",
   "execution_count": 29,
   "metadata": {
    "collapsed": true
   },
   "outputs": [],
   "source": [
    "df = pd.DataFrame(data={'file': test_labels, 'species': test_y})\n",
    "df_sort = df.sort_values(by=['file'])\n",
    "df_sort.to_csv('results.csv', index=False)"
   ]
  },
  {
   "cell_type": "code",
   "execution_count": null,
   "metadata": {
    "collapsed": true
   },
   "outputs": [],
   "source": []
  }
 ],
 "metadata": {
  "kernelspec": {
   "display_name": "Python 3",
   "language": "python",
   "name": "python3"
  },
  "language_info": {
   "codemirror_mode": {
    "name": "ipython",
    "version": 3
   },
   "file_extension": ".py",
   "mimetype": "text/x-python",
   "name": "python",
   "nbconvert_exporter": "python",
   "pygments_lexer": "ipython3",
   "version": "3.5.3"
  }
 },
 "nbformat": 4,
 "nbformat_minor": 2
}
